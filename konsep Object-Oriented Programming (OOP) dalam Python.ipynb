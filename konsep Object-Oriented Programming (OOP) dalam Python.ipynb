{
  "nbformat": 4,
  "nbformat_minor": 0,
  "metadata": {
    "colab": {
      "provenance": []
    },
    "kernelspec": {
      "name": "python3",
      "display_name": "Python 3"
    },
    "language_info": {
      "name": "python"
    }
  },
  "cells": [
    {
      "cell_type": "markdown",
      "source": [
        "1.  Buatlah sebuah class Mahasiswa yang memiliki a**tribut nama, nim, dan jurusan.** teks tebal\n",
        "Tambahkan **metode info_mahasiswa** yang akan menampilkan informasi mahasiswa **(nama, nim, dan jurusan).**"
      ],
      "metadata": {
        "id": "TmbjWtLlvlkt"
      }
    },
    {
      "cell_type": "code",
      "execution_count": null,
      "metadata": {
        "colab": {
          "base_uri": "https://localhost:8080/"
        },
        "id": "LdEuJggyCv0A",
        "outputId": "eb012a4d-a44c-45e0-b827-d73bb1814c75"
      },
      "outputs": [
        {
          "output_type": "stream",
          "name": "stdout",
          "text": [
            "Nama    : FUAD HASYIM\n",
            "NIM     : 3211418021\n",
            "Jurusan : Geografi\n"
          ]
        }
      ],
      "source": [
        "class Mahasiswa:\n",
        "    def __init__(self, nama, nim, jurusan):\n",
        "        self.nama = nama\n",
        "        self.nim = nim\n",
        "        self.jurusan = jurusan\n",
        "\n",
        "    def info_mahasiswa(self):\n",
        "        print(f\"Nama    : {self.nama}\")\n",
        "        print(f\"NIM     : {self.nim}\")\n",
        "        print(f\"Jurusan : {self.jurusan}\")\n",
        "\n",
        "# Contoh penggunaan\n",
        "mhs1 = Mahasiswa(\"FUAD HASYIM\", \"3211418021\", \"Geografi\")\n",
        "mhs1.info_mahasiswa()\n"
      ]
    },
    {
      "cell_type": "markdown",
      "source": [
        "2. Buat class Tabungan yang memiliki **atribut __saldo (bersifat private).**\n",
        "Tambahkan **metode deposit** untuk menambah saldo dan tarik untuk mengambil saldo.\n",
        "Jika saldo tidak mencukupi, tampilkan pesan \"Saldo tidak mencukupi.\""
      ],
      "metadata": {
        "id": "199p9GaNwD3M"
      }
    },
    {
      "cell_type": "code",
      "source": [
        "class Tabungan:\n",
        "    def __init__(self, saldo_awal=0):\n",
        "        self.__saldo = saldo_awal\n",
        "\n",
        "    def deposit(self, jumlah):\n",
        "        self.__saldo += jumlah\n",
        "        print(f\"Berhasil menabung: Rp{jumlah}\")\n",
        "\n",
        "    def tarik(self, jumlah):\n",
        "        if jumlah > self.__saldo:\n",
        "            print(\"Saldo tidak mencukupi.\")\n",
        "        else:\n",
        "            self.__saldo -= jumlah\n",
        "            print(f\"Berhasil menarik: Rp{jumlah}\")\n",
        "\n",
        "    def lihat_saldo(self):\n",
        "        print(f\"Saldo saat ini: Rp{self.__saldo}\")\n",
        "\n",
        "# Contoh penggunaan\n",
        "tab = Tabungan(500000)\n",
        "tab.deposit(200000)\n",
        "tab.tarik(100000)\n",
        "tab.tarik(700000) #Saldo tidak mencukupi karena saldonya sekarang adalah Rp. 600.000 sedangkan yang di tarik adalah Rp. 700.000\n",
        "tab.lihat_saldo()\n"
      ],
      "metadata": {
        "colab": {
          "base_uri": "https://localhost:8080/"
        },
        "id": "6r_9fFb-DDSH",
        "outputId": "ec56a5db-dee6-4b54-f10c-15b85a97378f"
      },
      "execution_count": null,
      "outputs": [
        {
          "output_type": "stream",
          "name": "stdout",
          "text": [
            "Berhasil menabung: Rp200000\n",
            "Berhasil menarik: Rp100000\n",
            "Saldo tidak mencukupi.\n",
            "Saldo saat ini: Rp600000\n"
          ]
        }
      ]
    },
    {
      "cell_type": "markdown",
      "source": [
        "3. Buat class Pegawai yang memiliki atribut nama dan gaji. **Buat subclass Manager yang mewarisi class Pegawai** dan menambahkan atribut tunjangan.\n",
        "Tambahkan metode info_manager yang menampilkan informasi nama, gaji, dan tunjangan."
      ],
      "metadata": {
        "id": "tsOUBvOkwO6l"
      }
    },
    {
      "cell_type": "code",
      "source": [
        "class Pegawai:\n",
        "    def __init__(self, nama, gaji):\n",
        "        self.nama = nama\n",
        "        self.gaji = gaji\n",
        "\n",
        "class Manager(Pegawai):\n",
        "    def __init__(self, nama, gaji, tunjangan):\n",
        "        super().__init__(nama, gaji)\n",
        "        self.tunjangan = tunjangan\n",
        "\n",
        "    def info_manager(self):\n",
        "        print(f\"Nama      : {self.nama}\")\n",
        "        print(f\"Gaji      : Rp{self.gaji}\")\n",
        "        print(f\"Tunjangan : Rp{self.tunjangan}\")\n",
        "\n",
        "# Contoh penggunaan\n",
        "mgr = Manager(\"Fuad Hasyim\", 7000000, 2000000)\n",
        "mgr.info_manager()\n"
      ],
      "metadata": {
        "colab": {
          "base_uri": "https://localhost:8080/"
        },
        "id": "uiIOJtQ8DXLW",
        "outputId": "485a3790-b467-4ce7-ca5c-b3d3346044c4"
      },
      "execution_count": null,
      "outputs": [
        {
          "output_type": "stream",
          "name": "stdout",
          "text": [
            "Nama      : Fuad Hasyim\n",
            "Gaji      : Rp7000000\n",
            "Tunjangan : Rp2000000\n"
          ]
        }
      ]
    },
    {
      "cell_type": "markdown",
      "source": [
        "4. Buat class Kendaraan dengan **metode bahan_bakar** yang hanya menampilkan \"Jenis bahan bakar tidak diketahui.\"\n",
        " Buat subclass Mobil dan Motor, lalu o**verride metode bahan_baka**r pada masing-masing subclass\n",
        " untuk menampilkan jenis bahan bakar yang digunakan (contoh: \"Bensin\" untuk Mobil, \"Solar\" untuk Motor)."
      ],
      "metadata": {
        "id": "4_TRBottwZW1"
      }
    },
    {
      "cell_type": "code",
      "source": [
        "class Kendaraan:\n",
        "    def bahan_bakar(self):\n",
        "        print(\"Jenis bahan bakar tidak diketahui.\")\n",
        "\n",
        "class Mobil(Kendaraan):\n",
        "    def bahan_bakar(self):\n",
        "        print(\"Bahan bakar: Bensin\")\n",
        "\n",
        "class Motor(Kendaraan):\n",
        "    def bahan_bakar(self):\n",
        "        print(\"Bahan bakar: Solar\")\n",
        "\n",
        "# Contoh penggunaan\n",
        "k1 = Kendaraan()\n",
        "m1 = Mobil()\n",
        "mt1 = Motor()\n",
        "\n",
        "k1.bahan_bakar()\n",
        "m1.bahan_bakar()\n",
        "mt1.bahan_bakar()\n"
      ],
      "metadata": {
        "colab": {
          "base_uri": "https://localhost:8080/"
        },
        "id": "4zE44oc4DoSE",
        "outputId": "da5caa5a-de72-4640-8b2a-9491db8db83b"
      },
      "execution_count": null,
      "outputs": [
        {
          "output_type": "stream",
          "name": "stdout",
          "text": [
            "Jenis bahan bakar tidak diketahui.\n",
            "Bahan bakar: Bensin\n",
            "Bahan bakar: Solar\n"
          ]
        }
      ]
    },
    {
      "cell_type": "markdown",
      "source": [
        "5. Buat class abstrak Hewan dengan **metode abstrak suara**.\n",
        "Buat subclass Kucing dan Anjing yang mengimplementasikan metode suara untuk mengeluarkan suara spesifik masing-masing\n",
        "(contoh: \"Meow\" untuk Kucing, \"Bark\" untuk Anjing).\n"
      ],
      "metadata": {
        "id": "IeEno9WCwi_i"
      }
    },
    {
      "cell_type": "code",
      "source": [
        "from abc import ABC, abstractmethod\n",
        "\n",
        "class Hewan(ABC):\n",
        "    @abstractmethod\n",
        "    def suara(self):\n",
        "        pass\n",
        "\n",
        "class Kucing(Hewan):\n",
        "    def suara(self):\n",
        "        print(\"Meow\")\n",
        "\n",
        "class Anjing(Hewan):\n",
        "    def suara(self):\n",
        "        print(\"Bark\")\n",
        "\n",
        "# Contoh penggunaan\n",
        "hewan1 = Kucing()\n",
        "hewan2 = Anjing()\n",
        "\n",
        "hewan1.suara()\n",
        "hewan2.suara()\n"
      ],
      "metadata": {
        "colab": {
          "base_uri": "https://localhost:8080/"
        },
        "id": "PGavvXW8DvvX",
        "outputId": "b930beb9-4b8f-4de9-87ca-463d2cbef078"
      },
      "execution_count": null,
      "outputs": [
        {
          "output_type": "stream",
          "name": "stdout",
          "text": [
            "Meow\n",
            "Bark\n"
          ]
        }
      ]
    }
  ]
}