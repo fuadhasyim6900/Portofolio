{
  "nbformat": 4,
  "nbformat_minor": 0,
  "metadata": {
    "colab": {
      "provenance": [],
      "toc_visible": true
    },
    "kernelspec": {
      "name": "python3",
      "display_name": "Python 3"
    },
    "language_info": {
      "name": "python"
    }
  },
  "cells": [
    {
      "cell_type": "markdown",
      "source": [
        "#**Assignment Guidance: Descriptive Statistics**"
      ],
      "metadata": {
        "id": "-bvaFlZLJb7V"
      }
    },
    {
      "cell_type": "markdown",
      "source": [
        "##**Import dari file dari Gdrive**"
      ],
      "metadata": {
        "id": "YPkn_5nnJo8p"
      }
    },
    {
      "cell_type": "code",
      "execution_count": null,
      "metadata": {
        "colab": {
          "base_uri": "https://localhost:8080/"
        },
        "id": "bqz3HLC3GuSl",
        "outputId": "fd438258-c167-4862-f7d9-3b70513d517c"
      },
      "outputs": [
        {
          "output_type": "stream",
          "name": "stdout",
          "text": [
            "Drive already mounted at /content/drive; to attempt to forcibly remount, call drive.mount(\"/content/drive\", force_remount=True).\n"
          ]
        }
      ],
      "source": [
        "from google.colab import drive\n",
        "drive.mount('/content/drive')"
      ]
    },
    {
      "cell_type": "markdown",
      "source": [
        "##**Import Library**"
      ],
      "metadata": {
        "id": "NRV3xb3CJ2Tx"
      }
    },
    {
      "cell_type": "code",
      "source": [
        "import pandas as pd\n",
        "from scipy import stats\n",
        "import numpy as np\n",
        "import seaborn as sns\n",
        "import matplotlib.pyplot as plt\n",
        "\n",
        "import warnings\n",
        "warnings.filterwarnings('ignore')\n",
        "\n",
        "#Membaca data\n",
        "df = pd.read_csv('/content/drive/MyDrive/winequality-red.csv')"
      ],
      "metadata": {
        "id": "n7-PqEDVIYAI"
      },
      "execution_count": null,
      "outputs": []
    },
    {
      "cell_type": "markdown",
      "source": [
        "##**A. Bagian 1: Statistik Deskriptif & Eksplorasi Awal**"
      ],
      "metadata": {
        "id": "k4lfxF7CKMhS"
      }
    },
    {
      "cell_type": "markdown",
      "source": [
        "### **1. Tampilkan 5 baris pertama,  informasi dataset, dan ringkasan statistik**"
      ],
      "metadata": {
        "id": "UwhHM7NAKdcl"
      }
    },
    {
      "cell_type": "code",
      "source": [
        "df.head()"
      ],
      "metadata": {
        "colab": {
          "base_uri": "https://localhost:8080/",
          "height": 206
        },
        "id": "GXnKHYj8KYcY",
        "outputId": "877cd74f-71ef-4b24-ad4d-bb273e24416f"
      },
      "execution_count": null,
      "outputs": [
        {
          "output_type": "execute_result",
          "data": {
            "text/plain": [
              "   fixed acidity  volatile acidity  citric acid  residual sugar  chlorides  \\\n",
              "0            7.4              0.70         0.00             1.9      0.076   \n",
              "1            7.8              0.88         0.00             2.6      0.098   \n",
              "2            7.8              0.76         0.04             2.3      0.092   \n",
              "3           11.2              0.28         0.56             1.9      0.075   \n",
              "4            7.4              0.70         0.00             1.9      0.076   \n",
              "\n",
              "   free sulfur dioxide  total sulfur dioxide  density    pH  sulphates  \\\n",
              "0                 11.0                  34.0   0.9978  3.51       0.56   \n",
              "1                 25.0                  67.0   0.9968  3.20       0.68   \n",
              "2                 15.0                  54.0   0.9970  3.26       0.65   \n",
              "3                 17.0                  60.0   0.9980  3.16       0.58   \n",
              "4                 11.0                  34.0   0.9978  3.51       0.56   \n",
              "\n",
              "   alcohol  quality  \n",
              "0      9.4        5  \n",
              "1      9.8        5  \n",
              "2      9.8        5  \n",
              "3      9.8        6  \n",
              "4      9.4        5  "
            ],
            "text/html": [
              "\n",
              "  <div id=\"df-cef89de4-7280-4728-901f-597bb6593760\" class=\"colab-df-container\">\n",
              "    <div>\n",
              "<style scoped>\n",
              "    .dataframe tbody tr th:only-of-type {\n",
              "        vertical-align: middle;\n",
              "    }\n",
              "\n",
              "    .dataframe tbody tr th {\n",
              "        vertical-align: top;\n",
              "    }\n",
              "\n",
              "    .dataframe thead th {\n",
              "        text-align: right;\n",
              "    }\n",
              "</style>\n",
              "<table border=\"1\" class=\"dataframe\">\n",
              "  <thead>\n",
              "    <tr style=\"text-align: right;\">\n",
              "      <th></th>\n",
              "      <th>fixed acidity</th>\n",
              "      <th>volatile acidity</th>\n",
              "      <th>citric acid</th>\n",
              "      <th>residual sugar</th>\n",
              "      <th>chlorides</th>\n",
              "      <th>free sulfur dioxide</th>\n",
              "      <th>total sulfur dioxide</th>\n",
              "      <th>density</th>\n",
              "      <th>pH</th>\n",
              "      <th>sulphates</th>\n",
              "      <th>alcohol</th>\n",
              "      <th>quality</th>\n",
              "    </tr>\n",
              "  </thead>\n",
              "  <tbody>\n",
              "    <tr>\n",
              "      <th>0</th>\n",
              "      <td>7.4</td>\n",
              "      <td>0.70</td>\n",
              "      <td>0.00</td>\n",
              "      <td>1.9</td>\n",
              "      <td>0.076</td>\n",
              "      <td>11.0</td>\n",
              "      <td>34.0</td>\n",
              "      <td>0.9978</td>\n",
              "      <td>3.51</td>\n",
              "      <td>0.56</td>\n",
              "      <td>9.4</td>\n",
              "      <td>5</td>\n",
              "    </tr>\n",
              "    <tr>\n",
              "      <th>1</th>\n",
              "      <td>7.8</td>\n",
              "      <td>0.88</td>\n",
              "      <td>0.00</td>\n",
              "      <td>2.6</td>\n",
              "      <td>0.098</td>\n",
              "      <td>25.0</td>\n",
              "      <td>67.0</td>\n",
              "      <td>0.9968</td>\n",
              "      <td>3.20</td>\n",
              "      <td>0.68</td>\n",
              "      <td>9.8</td>\n",
              "      <td>5</td>\n",
              "    </tr>\n",
              "    <tr>\n",
              "      <th>2</th>\n",
              "      <td>7.8</td>\n",
              "      <td>0.76</td>\n",
              "      <td>0.04</td>\n",
              "      <td>2.3</td>\n",
              "      <td>0.092</td>\n",
              "      <td>15.0</td>\n",
              "      <td>54.0</td>\n",
              "      <td>0.9970</td>\n",
              "      <td>3.26</td>\n",
              "      <td>0.65</td>\n",
              "      <td>9.8</td>\n",
              "      <td>5</td>\n",
              "    </tr>\n",
              "    <tr>\n",
              "      <th>3</th>\n",
              "      <td>11.2</td>\n",
              "      <td>0.28</td>\n",
              "      <td>0.56</td>\n",
              "      <td>1.9</td>\n",
              "      <td>0.075</td>\n",
              "      <td>17.0</td>\n",
              "      <td>60.0</td>\n",
              "      <td>0.9980</td>\n",
              "      <td>3.16</td>\n",
              "      <td>0.58</td>\n",
              "      <td>9.8</td>\n",
              "      <td>6</td>\n",
              "    </tr>\n",
              "    <tr>\n",
              "      <th>4</th>\n",
              "      <td>7.4</td>\n",
              "      <td>0.70</td>\n",
              "      <td>0.00</td>\n",
              "      <td>1.9</td>\n",
              "      <td>0.076</td>\n",
              "      <td>11.0</td>\n",
              "      <td>34.0</td>\n",
              "      <td>0.9978</td>\n",
              "      <td>3.51</td>\n",
              "      <td>0.56</td>\n",
              "      <td>9.4</td>\n",
              "      <td>5</td>\n",
              "    </tr>\n",
              "  </tbody>\n",
              "</table>\n",
              "</div>\n",
              "    <div class=\"colab-df-buttons\">\n",
              "\n",
              "  <div class=\"colab-df-container\">\n",
              "    <button class=\"colab-df-convert\" onclick=\"convertToInteractive('df-cef89de4-7280-4728-901f-597bb6593760')\"\n",
              "            title=\"Convert this dataframe to an interactive table.\"\n",
              "            style=\"display:none;\">\n",
              "\n",
              "  <svg xmlns=\"http://www.w3.org/2000/svg\" height=\"24px\" viewBox=\"0 -960 960 960\">\n",
              "    <path d=\"M120-120v-720h720v720H120Zm60-500h600v-160H180v160Zm220 220h160v-160H400v160Zm0 220h160v-160H400v160ZM180-400h160v-160H180v160Zm440 0h160v-160H620v160ZM180-180h160v-160H180v160Zm440 0h160v-160H620v160Z\"/>\n",
              "  </svg>\n",
              "    </button>\n",
              "\n",
              "  <style>\n",
              "    .colab-df-container {\n",
              "      display:flex;\n",
              "      gap: 12px;\n",
              "    }\n",
              "\n",
              "    .colab-df-convert {\n",
              "      background-color: #E8F0FE;\n",
              "      border: none;\n",
              "      border-radius: 50%;\n",
              "      cursor: pointer;\n",
              "      display: none;\n",
              "      fill: #1967D2;\n",
              "      height: 32px;\n",
              "      padding: 0 0 0 0;\n",
              "      width: 32px;\n",
              "    }\n",
              "\n",
              "    .colab-df-convert:hover {\n",
              "      background-color: #E2EBFA;\n",
              "      box-shadow: 0px 1px 2px rgba(60, 64, 67, 0.3), 0px 1px 3px 1px rgba(60, 64, 67, 0.15);\n",
              "      fill: #174EA6;\n",
              "    }\n",
              "\n",
              "    .colab-df-buttons div {\n",
              "      margin-bottom: 4px;\n",
              "    }\n",
              "\n",
              "    [theme=dark] .colab-df-convert {\n",
              "      background-color: #3B4455;\n",
              "      fill: #D2E3FC;\n",
              "    }\n",
              "\n",
              "    [theme=dark] .colab-df-convert:hover {\n",
              "      background-color: #434B5C;\n",
              "      box-shadow: 0px 1px 3px 1px rgba(0, 0, 0, 0.15);\n",
              "      filter: drop-shadow(0px 1px 2px rgba(0, 0, 0, 0.3));\n",
              "      fill: #FFFFFF;\n",
              "    }\n",
              "  </style>\n",
              "\n",
              "    <script>\n",
              "      const buttonEl =\n",
              "        document.querySelector('#df-cef89de4-7280-4728-901f-597bb6593760 button.colab-df-convert');\n",
              "      buttonEl.style.display =\n",
              "        google.colab.kernel.accessAllowed ? 'block' : 'none';\n",
              "\n",
              "      async function convertToInteractive(key) {\n",
              "        const element = document.querySelector('#df-cef89de4-7280-4728-901f-597bb6593760');\n",
              "        const dataTable =\n",
              "          await google.colab.kernel.invokeFunction('convertToInteractive',\n",
              "                                                    [key], {});\n",
              "        if (!dataTable) return;\n",
              "\n",
              "        const docLinkHtml = 'Like what you see? Visit the ' +\n",
              "          '<a target=\"_blank\" href=https://colab.research.google.com/notebooks/data_table.ipynb>data table notebook</a>'\n",
              "          + ' to learn more about interactive tables.';\n",
              "        element.innerHTML = '';\n",
              "        dataTable['output_type'] = 'display_data';\n",
              "        await google.colab.output.renderOutput(dataTable, element);\n",
              "        const docLink = document.createElement('div');\n",
              "        docLink.innerHTML = docLinkHtml;\n",
              "        element.appendChild(docLink);\n",
              "      }\n",
              "    </script>\n",
              "  </div>\n",
              "\n",
              "\n",
              "    <div id=\"df-b37e9c7b-6fde-4846-8844-2ecb216724e9\">\n",
              "      <button class=\"colab-df-quickchart\" onclick=\"quickchart('df-b37e9c7b-6fde-4846-8844-2ecb216724e9')\"\n",
              "                title=\"Suggest charts\"\n",
              "                style=\"display:none;\">\n",
              "\n",
              "<svg xmlns=\"http://www.w3.org/2000/svg\" height=\"24px\"viewBox=\"0 0 24 24\"\n",
              "     width=\"24px\">\n",
              "    <g>\n",
              "        <path d=\"M19 3H5c-1.1 0-2 .9-2 2v14c0 1.1.9 2 2 2h14c1.1 0 2-.9 2-2V5c0-1.1-.9-2-2-2zM9 17H7v-7h2v7zm4 0h-2V7h2v10zm4 0h-2v-4h2v4z\"/>\n",
              "    </g>\n",
              "</svg>\n",
              "      </button>\n",
              "\n",
              "<style>\n",
              "  .colab-df-quickchart {\n",
              "      --bg-color: #E8F0FE;\n",
              "      --fill-color: #1967D2;\n",
              "      --hover-bg-color: #E2EBFA;\n",
              "      --hover-fill-color: #174EA6;\n",
              "      --disabled-fill-color: #AAA;\n",
              "      --disabled-bg-color: #DDD;\n",
              "  }\n",
              "\n",
              "  [theme=dark] .colab-df-quickchart {\n",
              "      --bg-color: #3B4455;\n",
              "      --fill-color: #D2E3FC;\n",
              "      --hover-bg-color: #434B5C;\n",
              "      --hover-fill-color: #FFFFFF;\n",
              "      --disabled-bg-color: #3B4455;\n",
              "      --disabled-fill-color: #666;\n",
              "  }\n",
              "\n",
              "  .colab-df-quickchart {\n",
              "    background-color: var(--bg-color);\n",
              "    border: none;\n",
              "    border-radius: 50%;\n",
              "    cursor: pointer;\n",
              "    display: none;\n",
              "    fill: var(--fill-color);\n",
              "    height: 32px;\n",
              "    padding: 0;\n",
              "    width: 32px;\n",
              "  }\n",
              "\n",
              "  .colab-df-quickchart:hover {\n",
              "    background-color: var(--hover-bg-color);\n",
              "    box-shadow: 0 1px 2px rgba(60, 64, 67, 0.3), 0 1px 3px 1px rgba(60, 64, 67, 0.15);\n",
              "    fill: var(--button-hover-fill-color);\n",
              "  }\n",
              "\n",
              "  .colab-df-quickchart-complete:disabled,\n",
              "  .colab-df-quickchart-complete:disabled:hover {\n",
              "    background-color: var(--disabled-bg-color);\n",
              "    fill: var(--disabled-fill-color);\n",
              "    box-shadow: none;\n",
              "  }\n",
              "\n",
              "  .colab-df-spinner {\n",
              "    border: 2px solid var(--fill-color);\n",
              "    border-color: transparent;\n",
              "    border-bottom-color: var(--fill-color);\n",
              "    animation:\n",
              "      spin 1s steps(1) infinite;\n",
              "  }\n",
              "\n",
              "  @keyframes spin {\n",
              "    0% {\n",
              "      border-color: transparent;\n",
              "      border-bottom-color: var(--fill-color);\n",
              "      border-left-color: var(--fill-color);\n",
              "    }\n",
              "    20% {\n",
              "      border-color: transparent;\n",
              "      border-left-color: var(--fill-color);\n",
              "      border-top-color: var(--fill-color);\n",
              "    }\n",
              "    30% {\n",
              "      border-color: transparent;\n",
              "      border-left-color: var(--fill-color);\n",
              "      border-top-color: var(--fill-color);\n",
              "      border-right-color: var(--fill-color);\n",
              "    }\n",
              "    40% {\n",
              "      border-color: transparent;\n",
              "      border-right-color: var(--fill-color);\n",
              "      border-top-color: var(--fill-color);\n",
              "    }\n",
              "    60% {\n",
              "      border-color: transparent;\n",
              "      border-right-color: var(--fill-color);\n",
              "    }\n",
              "    80% {\n",
              "      border-color: transparent;\n",
              "      border-right-color: var(--fill-color);\n",
              "      border-bottom-color: var(--fill-color);\n",
              "    }\n",
              "    90% {\n",
              "      border-color: transparent;\n",
              "      border-bottom-color: var(--fill-color);\n",
              "    }\n",
              "  }\n",
              "</style>\n",
              "\n",
              "      <script>\n",
              "        async function quickchart(key) {\n",
              "          const quickchartButtonEl =\n",
              "            document.querySelector('#' + key + ' button');\n",
              "          quickchartButtonEl.disabled = true;  // To prevent multiple clicks.\n",
              "          quickchartButtonEl.classList.add('colab-df-spinner');\n",
              "          try {\n",
              "            const charts = await google.colab.kernel.invokeFunction(\n",
              "                'suggestCharts', [key], {});\n",
              "          } catch (error) {\n",
              "            console.error('Error during call to suggestCharts:', error);\n",
              "          }\n",
              "          quickchartButtonEl.classList.remove('colab-df-spinner');\n",
              "          quickchartButtonEl.classList.add('colab-df-quickchart-complete');\n",
              "        }\n",
              "        (() => {\n",
              "          let quickchartButtonEl =\n",
              "            document.querySelector('#df-b37e9c7b-6fde-4846-8844-2ecb216724e9 button');\n",
              "          quickchartButtonEl.style.display =\n",
              "            google.colab.kernel.accessAllowed ? 'block' : 'none';\n",
              "        })();\n",
              "      </script>\n",
              "    </div>\n",
              "\n",
              "    </div>\n",
              "  </div>\n"
            ],
            "application/vnd.google.colaboratory.intrinsic+json": {
              "type": "dataframe",
              "variable_name": "df",
              "summary": "{\n  \"name\": \"df\",\n  \"rows\": 1599,\n  \"fields\": [\n    {\n      \"column\": \"fixed acidity\",\n      \"properties\": {\n        \"dtype\": \"number\",\n        \"std\": 1.7410963181277006,\n        \"min\": 4.6,\n        \"max\": 15.9,\n        \"num_unique_values\": 96,\n        \"samples\": [\n          5.3,\n          12.7,\n          12.6\n        ],\n        \"semantic_type\": \"\",\n        \"description\": \"\"\n      }\n    },\n    {\n      \"column\": \"volatile acidity\",\n      \"properties\": {\n        \"dtype\": \"number\",\n        \"std\": 0.17905970415353498,\n        \"min\": 0.12,\n        \"max\": 1.58,\n        \"num_unique_values\": 143,\n        \"samples\": [\n          1.025,\n          0.4,\n          0.87\n        ],\n        \"semantic_type\": \"\",\n        \"description\": \"\"\n      }\n    },\n    {\n      \"column\": \"citric acid\",\n      \"properties\": {\n        \"dtype\": \"number\",\n        \"std\": 0.19480113740531785,\n        \"min\": 0.0,\n        \"max\": 1.0,\n        \"num_unique_values\": 80,\n        \"samples\": [\n          0.37,\n          0.0,\n          0.09\n        ],\n        \"semantic_type\": \"\",\n        \"description\": \"\"\n      }\n    },\n    {\n      \"column\": \"residual sugar\",\n      \"properties\": {\n        \"dtype\": \"number\",\n        \"std\": 1.4099280595072805,\n        \"min\": 0.9,\n        \"max\": 15.5,\n        \"num_unique_values\": 91,\n        \"samples\": [\n          11.0,\n          3.0,\n          15.5\n        ],\n        \"semantic_type\": \"\",\n        \"description\": \"\"\n      }\n    },\n    {\n      \"column\": \"chlorides\",\n      \"properties\": {\n        \"dtype\": \"number\",\n        \"std\": 0.047065302010090154,\n        \"min\": 0.012,\n        \"max\": 0.611,\n        \"num_unique_values\": 153,\n        \"samples\": [\n          0.096,\n          0.3429999999999999,\n          0.159\n        ],\n        \"semantic_type\": \"\",\n        \"description\": \"\"\n      }\n    },\n    {\n      \"column\": \"free sulfur dioxide\",\n      \"properties\": {\n        \"dtype\": \"number\",\n        \"std\": 10.46015696980973,\n        \"min\": 1.0,\n        \"max\": 72.0,\n        \"num_unique_values\": 60,\n        \"samples\": [\n          11.0,\n          9.0,\n          32.0\n        ],\n        \"semantic_type\": \"\",\n        \"description\": \"\"\n      }\n    },\n    {\n      \"column\": \"total sulfur dioxide\",\n      \"properties\": {\n        \"dtype\": \"number\",\n        \"std\": 32.89532447829901,\n        \"min\": 6.0,\n        \"max\": 289.0,\n        \"num_unique_values\": 144,\n        \"samples\": [\n          68.0,\n          35.0,\n          101.0\n        ],\n        \"semantic_type\": \"\",\n        \"description\": \"\"\n      }\n    },\n    {\n      \"column\": \"density\",\n      \"properties\": {\n        \"dtype\": \"number\",\n        \"std\": 0.0018873339538425559,\n        \"min\": 0.99007,\n        \"max\": 1.00369,\n        \"num_unique_values\": 436,\n        \"samples\": [\n          0.99974,\n          1.0001,\n          0.99471\n        ],\n        \"semantic_type\": \"\",\n        \"description\": \"\"\n      }\n    },\n    {\n      \"column\": \"pH\",\n      \"properties\": {\n        \"dtype\": \"number\",\n        \"std\": 0.15438646490354266,\n        \"min\": 2.74,\n        \"max\": 4.01,\n        \"num_unique_values\": 89,\n        \"samples\": [\n          3.07,\n          3.0,\n          3.15\n        ],\n        \"semantic_type\": \"\",\n        \"description\": \"\"\n      }\n    },\n    {\n      \"column\": \"sulphates\",\n      \"properties\": {\n        \"dtype\": \"number\",\n        \"std\": 0.16950697959010977,\n        \"min\": 0.33,\n        \"max\": 2.0,\n        \"num_unique_values\": 96,\n        \"samples\": [\n          1.07,\n          1.04,\n          1.18\n        ],\n        \"semantic_type\": \"\",\n        \"description\": \"\"\n      }\n    },\n    {\n      \"column\": \"alcohol\",\n      \"properties\": {\n        \"dtype\": \"number\",\n        \"std\": 1.0656675818473926,\n        \"min\": 8.4,\n        \"max\": 14.9,\n        \"num_unique_values\": 65,\n        \"samples\": [\n          8.5,\n          9.95,\n          9.4\n        ],\n        \"semantic_type\": \"\",\n        \"description\": \"\"\n      }\n    },\n    {\n      \"column\": \"quality\",\n      \"properties\": {\n        \"dtype\": \"number\",\n        \"std\": 0,\n        \"min\": 3,\n        \"max\": 8,\n        \"num_unique_values\": 6,\n        \"samples\": [\n          5,\n          6,\n          3\n        ],\n        \"semantic_type\": \"\",\n        \"description\": \"\"\n      }\n    }\n  ]\n}"
            }
          },
          "metadata": {},
          "execution_count": 58
        }
      ]
    },
    {
      "cell_type": "code",
      "source": [
        "df.info()"
      ],
      "metadata": {
        "colab": {
          "base_uri": "https://localhost:8080/"
        },
        "id": "iExpPxM7-IKy",
        "outputId": "3b5bafbf-3be5-48a1-90d6-b1873275a106"
      },
      "execution_count": null,
      "outputs": [
        {
          "output_type": "stream",
          "name": "stdout",
          "text": [
            "<class 'pandas.core.frame.DataFrame'>\n",
            "RangeIndex: 1599 entries, 0 to 1598\n",
            "Data columns (total 12 columns):\n",
            " #   Column                Non-Null Count  Dtype  \n",
            "---  ------                --------------  -----  \n",
            " 0   fixed acidity         1599 non-null   float64\n",
            " 1   volatile acidity      1599 non-null   float64\n",
            " 2   citric acid           1599 non-null   float64\n",
            " 3   residual sugar        1599 non-null   float64\n",
            " 4   chlorides             1599 non-null   float64\n",
            " 5   free sulfur dioxide   1599 non-null   float64\n",
            " 6   total sulfur dioxide  1599 non-null   float64\n",
            " 7   density               1599 non-null   float64\n",
            " 8   pH                    1599 non-null   float64\n",
            " 9   sulphates             1599 non-null   float64\n",
            " 10  alcohol               1599 non-null   float64\n",
            " 11  quality               1599 non-null   int64  \n",
            "dtypes: float64(11), int64(1)\n",
            "memory usage: 150.0 KB\n"
          ]
        }
      ]
    },
    {
      "cell_type": "markdown",
      "source": [
        "###**2. Hitung dan interpretasikan:**\n"
      ],
      "metadata": {
        "id": "g_xypjGaLCqk"
      }
    },
    {
      "cell_type": "markdown",
      "source": [
        "\n",
        "\n",
        "*   **Mean, median, dan mode untuk alcohol, residual sugar, dan quality**"
      ],
      "metadata": {
        "id": "32OD7Q1jWhIB"
      }
    },
    {
      "cell_type": "code",
      "source": [
        "summary_stats = {\n",
        "    'mean': df[['alcohol', 'residual sugar', 'quality']].mean(),\n",
        "    'median': df[['alcohol', 'residual sugar', 'quality']].median(),\n",
        "    'mode': df[['alcohol', 'residual sugar', 'quality']].mode().iloc[0]\n",
        "}"
      ],
      "metadata": {
        "id": "RbSX5ju_LHP5"
      },
      "execution_count": null,
      "outputs": []
    },
    {
      "cell_type": "code",
      "source": [
        "summary_df = pd.DataFrame(summary_stats)"
      ],
      "metadata": {
        "id": "OMD6q97wM8RX"
      },
      "execution_count": null,
      "outputs": []
    },
    {
      "cell_type": "code",
      "source": [
        "print(summary_df.T)"
      ],
      "metadata": {
        "colab": {
          "base_uri": "https://localhost:8080/"
        },
        "id": "jBzzenkCM_Q9",
        "outputId": "8931b64e-5d33-488d-f26c-d8b8fe77bbe0"
      },
      "execution_count": null,
      "outputs": [
        {
          "output_type": "stream",
          "name": "stdout",
          "text": [
            "          alcohol  residual sugar   quality\n",
            "mean    10.422983        2.538806  5.636023\n",
            "median  10.200000        2.200000  6.000000\n",
            "mode     9.500000        2.000000  5.000000\n"
          ]
        }
      ]
    },
    {
      "cell_type": "code",
      "source": [
        "#print satu persatu\n",
        "mean_alcohol = df['alcohol'].mean()\n",
        "median_alcohol = df['alcohol'].median()\n",
        "mode_alcohol = df['alcohol'].mode().iloc[0]\n",
        "print(f\"Mean alcohol: {mean_alcohol}\")\n",
        "print(f\"Median alcohol: {median_alcohol}\")\n",
        "print(f\"Mode alcohol: {mode_alcohol}\")\n",
        "\n",
        "mean_residual_sugar = df['residual sugar'].mean()\n",
        "median_residual_sugar = df['residual sugar'].median()\n",
        "mode_residual_sugar = df['residual sugar'].mode().iloc[0]\n",
        "print(f\"Mean residual sugar: {mean_residual_sugar}\")\n",
        "print(f\"Median residual sugar: {median_residual_sugar}\")\n",
        "print(f\"Mode residual sugar: {mode_residual_sugar}\")\n",
        "\n",
        "mean_quality = df['quality'].mean()\n",
        "median_quality = df['quality'].median()\n",
        "mode_quality = df['quality'].mode().iloc[0]\n",
        "print(f\"Mean quality: {mean_quality}\")\n",
        "print(f\"Median quality: {median_quality}\")\n",
        "print(f\"Mode quality: {mode_quality}\")"
      ],
      "metadata": {
        "colab": {
          "base_uri": "https://localhost:8080/"
        },
        "id": "Crry2nIP1raE",
        "outputId": "46a04c94-ab4a-4bd7-a125-0bfe4abd6aa0"
      },
      "execution_count": null,
      "outputs": [
        {
          "output_type": "stream",
          "name": "stdout",
          "text": [
            "Mean alcohol: 10.422983114446529\n",
            "Median alcohol: 10.2\n",
            "Mode alcohol: 9.5\n",
            "Mean residual sugar: 2.53880550343965\n",
            "Median residual sugar: 2.2\n",
            "Mode residual sugar: 2.0\n",
            "Mean quality: 5.6360225140712945\n",
            "Median quality: 6.0\n",
            "Mode quality: 5\n"
          ]
        }
      ]
    },
    {
      "cell_type": "markdown",
      "source": [
        "| Fitur              | Distribusi                        | Mayoritas Data di Sekitar | Catatan                                                           |\n",
        "| ------------------ | --------------------------------- | ------------------------- | ----------------------------------------------------------------- |\n",
        "| **Alcohol**        | Right-skewed                      | \\~9.5–10.2                | Ada beberapa wine dengan alkohol tinggi yang mengangkat rata-rata |\n",
        "| **Residual Sugar** | Right-skewed                      | \\~2.0–2.2                 | Beberapa wine manis meningkatkan rata-rata                        |\n",
        "| **Quality**        | Near-normal (sedikit left-skewed) | 5–6                       | Sebagian besar wine kualitas sedang                               |\n"
      ],
      "metadata": {
        "id": "0SzMzyTq6LoT"
      }
    },
    {
      "cell_type": "markdown",
      "source": [
        "\n",
        "* **Variance dan standard deviation untuk ketiga kolom tersebut**   \n"
      ],
      "metadata": {
        "id": "FExwja8uajPf"
      }
    },
    {
      "cell_type": "code",
      "source": [
        "#variance alcohol\n",
        "variance_alcohol = df['alcohol'].var()\n",
        "\n",
        "#variance residual sugar\n",
        "variance_residual_sugar = df['residual sugar'].var()\n",
        "\n",
        "#variance quality\n",
        "variance_quality = df['quality'].var()\n",
        "\n",
        "print(f\"Variance alcohol: {variance_alcohol}\")\n",
        "print(f\"Variance residual sugar: {variance_residual_sugar}\")\n",
        "print(f\"Variance quality: {variance_quality}\")\n",
        "\n"
      ],
      "metadata": {
        "colab": {
          "base_uri": "https://localhost:8080/"
        },
        "id": "sWEG3OJO25tK",
        "outputId": "33ab674a-ed37-4393-edea-ffe3a9a703a8"
      },
      "execution_count": null,
      "outputs": [
        {
          "output_type": "stream",
          "name": "stdout",
          "text": [
            "Variance alcohol: 1.1356473950004693\n",
            "Variance residual sugar: 1.9878971329859656\n",
            "Variance quality: 0.6521683999934209\n"
          ]
        }
      ]
    },
    {
      "cell_type": "code",
      "source": [
        "#std alcohol\n",
        "std_alcohol = df['alcohol'].std()\n",
        "#std residual sugar\n",
        "std_residual_sugar = df['residual sugar'].std()\n",
        "#std quality\n",
        "std_quality = df['quality'].std()\n",
        "\n",
        "print(f\"Standard deviation alcohol: {std_alcohol}\")\n",
        "print(f\"Standard deviation residual sugar: {std_residual_sugar}\")\n",
        "print(f\"Standard deviation quality: {std_quality}\")\n"
      ],
      "metadata": {
        "colab": {
          "base_uri": "https://localhost:8080/"
        },
        "id": "f-f864Ng4FWj",
        "outputId": "0a7425c4-80ad-4380-9b56-c4ecb806a42b"
      },
      "execution_count": null,
      "outputs": [
        {
          "output_type": "stream",
          "name": "stdout",
          "text": [
            "Standard deviation alcohol: 1.0656675818473926\n",
            "Standard deviation residual sugar: 1.4099280595072805\n",
            "Standard deviation quality: 0.8075694397347023\n"
          ]
        }
      ]
    },
    {
      "cell_type": "markdown",
      "source": [
        "| Fitur          | Variance | Std. Deviation |\n",
        "| -------------- | -------- | -------------- |\n",
        "| Alcohol        | 1.1356   | 1.0657         |\n",
        "| Residual Sugar | 1.9879   | 1.4099         |\n",
        "| Quality        | 0.6522   | 0.8076         |\n"
      ],
      "metadata": {
        "id": "y71KJ9-C7ys7"
      }
    },
    {
      "cell_type": "markdown",
      "source": [
        "| Fitur          | Variasi           | Interpretasi                                                                             |\n",
        "| -------------- | ----------------- | ---------------------------------------------------------------------------------------- |\n",
        "| Residual Sugar | **Paling tinggi** | Wine sangat bervariasi dari sisi kadar manisnya — penting untuk preferensi konsumen.     |\n",
        "| Alcohol        | Sedang            | Kandungan alkohol bervariasi tapi masih cukup terkendali — bisa berpengaruh ke kualitas. |\n",
        "| Quality        | **Paling rendah** | Mayoritas wine punya kualitas yang relatif seragam — tidak banyak outlier.               |\n",
        "\n"
      ],
      "metadata": {
        "id": "sTMRm7Hj7k7W"
      }
    },
    {
      "cell_type": "markdown",
      "source": [
        "###**3. Hitung jumlah dan persentase data yang:**"
      ],
      "metadata": {
        "id": "8uHd8JWDVEvA"
      }
    },
    {
      "cell_type": "markdown",
      "source": [
        "*   **alcohol > mean(alcohol)**\n",
        "*   **residual sugar > mean(residual sugar)**\n",
        "*   **quality > mean(quality)**\n",
        "\n",
        "\n",
        "\n",
        "\n"
      ],
      "metadata": {
        "id": "nwlWtJlAWsms"
      }
    },
    {
      "cell_type": "code",
      "source": [
        "for col in ['alcohol', 'residual sugar', 'quality']:\n",
        "    mean_value = df[col].mean()\n",
        "    count = (df[col] > mean_value).sum()\n",
        "    percent = count / len(df) * 100\n",
        "    print(f\"\\n{col} > mean: {count} data ({percent:.2f}%)\")"
      ],
      "metadata": {
        "colab": {
          "base_uri": "https://localhost:8080/"
        },
        "id": "iuqb5itjS-GZ",
        "outputId": "976b9cd3-3ade-4923-bddc-fa56925ae9d5"
      },
      "execution_count": null,
      "outputs": [
        {
          "output_type": "stream",
          "name": "stdout",
          "text": [
            "\n",
            "alcohol > mean: 683 data (42.71%)\n",
            "\n",
            "residual sugar > mean: 435 data (27.20%)\n",
            "\n",
            "quality > mean: 855 data (53.47%)\n"
          ]
        }
      ]
    },
    {
      "cell_type": "code",
      "source": [
        "# Filter data yang lebih besar dari mean\n",
        "alcohol_over_mean = df[df['alcohol'] > mean_alcohol][['alcohol']]\n",
        "residual_over_mean = df[df['residual sugar'] > mean_residual_sugar][['residual sugar']]\n",
        "quality_over_mean = df[df['quality'] > mean_quality][['quality']]\n",
        "\n",
        "# Total data\n",
        "total_rows = len(df)\n",
        "\n",
        "# Hitung jumlah dan persentase\n",
        "alcohol_count = len(alcohol_over_mean)\n",
        "residual_count = len(residual_over_mean)\n",
        "quality_count = len(quality_over_mean)\n",
        "\n",
        "alcohol_percent = alcohol_count / total_rows * 100\n",
        "residual_percent = residual_count / total_rows * 100\n",
        "quality_percent = quality_count / total_rows * 100\n",
        "\n",
        "# Print hasil\n",
        "print(f\"Jumlah alcohol > mean: {alcohol_count} data atau ({alcohol_percent:.2f}%)\")\n",
        "print(f\"Jumlah residual sugar > mean: {residual_count} data atau ({residual_percent:.2f}%)\")\n",
        "print(f\"Jumlah quality > mean: {quality_count} data atau ({quality_percent:.2f}%)\")"
      ],
      "metadata": {
        "colab": {
          "base_uri": "https://localhost:8080/"
        },
        "id": "KcQ318NtPL4_",
        "outputId": "e30b850a-c844-4f78-9ae9-631f010a201d"
      },
      "execution_count": null,
      "outputs": [
        {
          "output_type": "stream",
          "name": "stdout",
          "text": [
            "Jumlah alcohol > mean: 683 data atau (42.71%)\n",
            "Jumlah residual sugar > mean: 435 data atau (27.20%)\n",
            "Jumlah quality > mean: 855 data atau (53.47%)\n"
          ]
        }
      ]
    },
    {
      "cell_type": "markdown",
      "source": [
        "| Fitur              | Distribusi              | Implikasi                                                                 |\n",
        "| ------------------ | ----------------------- | ------------------------------------------------------------------------- |\n",
        "| **Alcohol**        | Right-skewed            | Rata-rata ditarik oleh outlier alkohol tinggi                             |\n",
        "| **Residual Sugar** | **Strong right-skewed** | Mayoritas wine kering, hanya sebagian kecil sangat manis                  |\n",
        "| **Quality**        | Slightly left-skewed    | Banyak wine berkualitas di atas rata-rata — kualitas cenderung cukup baik |\n"
      ],
      "metadata": {
        "id": "v2agW_Q98UU8"
      }
    },
    {
      "cell_type": "markdown",
      "source": [
        "### **4. Analytical thinking prompts:**"
      ],
      "metadata": {
        "id": "WWYw2WTQV0wf"
      }
    },
    {
      "cell_type": "markdown",
      "source": [
        "\n",
        "\n",
        "*   **Kolom mana yang nilai-nilainya paling menyebar?**\n",
        "\n"
      ],
      "metadata": {
        "id": "DWQK8WyAWBiI"
      }
    },
    {
      "cell_type": "markdown",
      "source": [
        "\n",
        "---\n",
        "\n",
        "> Residual sugar memiliki standar deviasi terbesar dari alcohol dan quality, artinya data-nya paling tersebar dari rata-ratanya, sesuai juga dengan persentase sebelumnya (hanya 27.20% di atas mean).\n",
        "\n",
        "\n"
      ],
      "metadata": {
        "id": "aTb6ZmNHYJXJ"
      }
    },
    {
      "cell_type": "markdown",
      "source": [
        "\n",
        "\n",
        "*   **Apakah data lebih banyak yang berada di atas atau di bawah rata-rata?**\n",
        "\n"
      ],
      "metadata": {
        "id": "ITdGLAQecbsD"
      }
    },
    {
      "cell_type": "markdown",
      "source": [
        "\n",
        "> alcohol: 42.71% > mean → lebih banyak data di bawah mean.\n",
        "\n",
        "> residual sugar: 27.20% > mean → jauh lebih banyak di bawah mean, menunjukkan mean ditarik oleh nilai besar.\n",
        "\n",
        "> quality: 53.47% > mean → sedikit lebih banyak di atas mean.\n"
      ],
      "metadata": {
        "id": "nFB6vbm5bzWQ"
      }
    },
    {
      "cell_type": "markdown",
      "source": [
        "\n",
        "\n",
        "*   **Apakah data simetris atau cenderung skewed?**\n",
        "\n"
      ],
      "metadata": {
        "id": "-y7rv93aiJxA"
      }
    },
    {
      "cell_type": "markdown",
      "source": [
        "\n",
        "> alcohol sedikit skewed ke kanan namun relatif normal\n",
        "\n"
      ],
      "metadata": {
        "id": "3MNRYxe4iUYP"
      }
    },
    {
      "cell_type": "code",
      "source": [
        "sns.displot(df['alcohol'],kde=True)"
      ],
      "metadata": {
        "id": "Q6xJ70HlDbfb",
        "colab": {
          "base_uri": "https://localhost:8080/",
          "height": 523
        },
        "outputId": "2e11e9f9-bd9a-477c-ebf1-984a1d431c53"
      },
      "execution_count": null,
      "outputs": [
        {
          "output_type": "execute_result",
          "data": {
            "text/plain": [
              "<seaborn.axisgrid.FacetGrid at 0x7aab31017810>"
            ]
          },
          "metadata": {},
          "execution_count": 68
        },
        {
          "output_type": "display_data",
          "data": {
            "text/plain": [
              "<Figure size 500x500 with 1 Axes>"
            ],
            "image/png": "[encoded data removed]"
          },
          "metadata": {}
        }
      ]
    },
    {
      "cell_type": "markdown",
      "source": [
        "\n",
        "\n",
        "> residual sugar Sangat skewed ke kanan (distribusi tidak normal, kemungkinan ada outlier)\n",
        "\n"
      ],
      "metadata": {
        "id": "3lmKoJAtiq7E"
      }
    },
    {
      "cell_type": "code",
      "source": [
        "sns.displot(df['residual sugar'],kde=True)"
      ],
      "metadata": {
        "id": "QTweqLp97VDv",
        "colab": {
          "base_uri": "https://localhost:8080/",
          "height": 523
        },
        "outputId": "9b7f5ac1-3d39-4e50-8aec-4c81594a2e65"
      },
      "execution_count": null,
      "outputs": [
        {
          "output_type": "execute_result",
          "data": {
            "text/plain": [
              "<seaborn.axisgrid.FacetGrid at 0x7aab30fcd3d0>"
            ]
          },
          "metadata": {},
          "execution_count": 69
        },
        {
          "output_type": "display_data",
          "data": {
            "text/plain": [
              "<Figure size 500x500 with 1 Axes>"
            ],
            "image/png": "[encoded data removed]"
          },
          "metadata": {}
        }
      ]
    },
    {
      "cell_type": "markdown",
      "source": [
        "\n",
        "\n",
        "> quality Hampir simetris dan bentuknya multimodal karena banyak modenya\n",
        "\n"
      ],
      "metadata": {
        "id": "O0vhZ73DjHp5"
      }
    },
    {
      "cell_type": "code",
      "source": [
        "sns.displot(df['quality'],kde=True)"
      ],
      "metadata": {
        "colab": {
          "base_uri": "https://localhost:8080/",
          "height": 523
        },
        "id": "dBPQzisugKeY",
        "outputId": "8a4b0743-e800-49e5-fec1-1194cea18a5a"
      },
      "execution_count": null,
      "outputs": [
        {
          "output_type": "execute_result",
          "data": {
            "text/plain": [
              "<seaborn.axisgrid.FacetGrid at 0x7aab30c61610>"
            ]
          },
          "metadata": {},
          "execution_count": 70
        },
        {
          "output_type": "display_data",
          "data": {
            "text/plain": [
              "<Figure size 500x500 with 1 Axes>"
            ],
            "image/png": "[encoded data removed]"
          },
          "metadata": {}
        }
      ]
    },
    {
      "cell_type": "markdown",
      "source": [
        "\n",
        "\n",
        "*   **Tambahkan pertanyaan analisis lainnya dan tuliskan insight-nya!**\n"
      ],
      "metadata": {
        "id": "onrauISAjZ-3"
      }
    },
    {
      "cell_type": "markdown",
      "source": [
        "\n",
        "\n",
        "> Seberapa besar variasi antar fitur?\n",
        "\n"
      ],
      "metadata": {
        "id": "VymBRmkqkOns"
      }
    },
    {
      "cell_type": "markdown",
      "source": [
        "\n",
        "---\n",
        "quality punya variasi terkecil, artinya datanya **cukup homogen.**\n",
        "\n",
        "residual sugar paling bervariasi, artinya nilai-nilainya **lebih tidak terkontrol / tersebar jauh.**\n",
        "\n",
        "Untuk pemodelan (misalnya regresi atau clustering), skala nilai bisa sangat berpengaruh → **normalisasi atau standarisasi disarankan.**"
      ],
      "metadata": {
        "id": "-ZvvRhRZkV0y"
      }
    },
    {
      "cell_type": "markdown",
      "source": [
        "> Apakah ada outlier ekstrem?\n",
        " dan Apakah semua kolom bisa digunakan untuk modeling langsung?"
      ],
      "metadata": {
        "id": "vmqLuLY_mp21"
      }
    },
    {
      "cell_type": "code",
      "source": [
        "sns.boxplot(x=df['residual sugar'])\n",
        "plt.title('Boxplot Residual Sugar')\n",
        "plt.show()"
      ],
      "metadata": {
        "colab": {
          "base_uri": "https://localhost:8080/",
          "height": 472
        },
        "id": "cNJUkmcUgRmY",
        "outputId": "d9923286-fac5-4ae9-ff69-b4896c782bd9"
      },
      "execution_count": null,
      "outputs": [
        {
          "output_type": "display_data",
          "data": {
            "text/plain": [
              "<Figure size 640x480 with 1 Axes>"
            ],
            "image/png": "[encoded data removed]"
          },
          "metadata": {}
        }
      ]
    },
    {
      "cell_type": "markdown",
      "source": [
        "Karena residual sugar sangat skewed, kemungkinan besar mengandung outlier tinggi. Mayoritas nilai residual sugar berkumpul di rentang 2 sampai 4. Namun terdapat rentetan nilai ekstrem (outlier) yang menjulur jauh ke kanan hingga sekitar 15. Ini menandakan distribusi skewed ke kanan — sebagian kecil data memiliki nilai jauh lebih besar dari mayoritas."
      ],
      "metadata": {
        "id": "6ZO7fEl4m22h"
      }
    },
    {
      "cell_type": "markdown",
      "source": [
        "Tidak. residual sugar perlu diolah lagi jika tidak\n",
        "Ini dapat memengaruhi:\n",
        "\n",
        "Akurasi model prediksi jika tidak ditangani (misalnya regresi).\n",
        "\n",
        "Rata-rata yang bias, karena ditarik oleh nilai-nilai ekstrem.\n",
        "\n",
        "Saran:\n",
        "\n",
        "Gunakan median atau IQR untuk analisis pusat data (bukan mean).\n"
      ],
      "metadata": {
        "id": "PNV5l4hmn_d6"
      }
    },
    {
      "cell_type": "markdown",
      "source": [
        "## **Bagian 2: Analisis Hubungan antar Variabel**"
      ],
      "metadata": {
        "id": "ssLlg4LqpAoc"
      }
    },
    {
      "cell_type": "markdown",
      "source": [
        "### **1. Hitung covariance dan correlation:**\n"
      ],
      "metadata": {
        "id": "PSFqBXiMpOz2"
      }
    },
    {
      "cell_type": "markdown",
      "source": [
        "\n",
        "\n",
        "*   **alcohol dan quality**\n",
        "\n",
        "\n"
      ],
      "metadata": {
        "id": "cYaHSbnLqREm"
      }
    },
    {
      "cell_type": "code",
      "source": [
        "cov = df['alcohol'].cov(df['quality'])\n",
        "cor = df['alcohol'].corr(df['quality'])\n",
        "\n",
        "print(f\"covariance alcohol vs quality: {cov:.3f}\")\n",
        "print(f\"correlation alcohol vs quality: {cor:.3f}\")"
      ],
      "metadata": {
        "colab": {
          "base_uri": "https://localhost:8080/"
        },
        "id": "WEdyKX0Mn-1R",
        "outputId": "5e07a2f7-b5f6-4b9a-bba8-4dcca3beb50b"
      },
      "execution_count": null,
      "outputs": [
        {
          "output_type": "stream",
          "name": "stdout",
          "text": [
            "covariance alcohol vs quality: 0.410\n",
            "correlation alcohol vs quality: 0.476\n"
          ]
        }
      ]
    },
    {
      "cell_type": "markdown",
      "source": [
        "| Aspek                      | Penjelasan                                                                                                                                                           |\n",
        "| -------------------------- | -------------------------------------------------------------------------------------------------------------------------------------------------------------------- |\n",
        "| Hubungan                   | Positif (semakin tinggi alkohol, semakin tinggi kualitas)                                                                                                            |\n",
        "| Kekuatan hubungan          | **Sedang (r ≈ 0.48)** — cukup kuat untuk diperhatikan dalam analisis                                                                                                 |\n",
        "| Implikasi bagi produksi    | Wine dengan kadar alkohol lebih tinggi **cenderung lebih disukai atau dinilai lebih berkualitas**, mungkin karena sensasi rasa, kompleksitas, atau persepsi premium. |\n",
        "| Rekomendasi untuk produsen | Bisa mempertimbangkan peningkatan alkohol dalam batas aman dan regulasi jika ingin meningkatkan persepsi kualitas.                                                   |\n"
      ],
      "metadata": {
        "id": "60eoAz_I9A8Z"
      }
    },
    {
      "cell_type": "markdown",
      "source": [
        "\n",
        "\n",
        "*  **residual sugar dan quality**\n",
        "\n"
      ],
      "metadata": {
        "id": "bDWitIVYsHHu"
      }
    },
    {
      "cell_type": "code",
      "source": [
        "cov = df['residual sugar'].cov(df['quality'])\n",
        "cor = df['residual sugar'].corr(df['quality'])\n",
        "\n",
        "print(f\"covariance residual sugar vs Quality: {cov:.3f}\")\n",
        "print(f\"covariance residual sugar vs Quality: {cor:.3f}\")"
      ],
      "metadata": {
        "colab": {
          "base_uri": "https://localhost:8080/"
        },
        "id": "1NRsP2s4qd-J",
        "outputId": "532235a2-1370-48b1-c3d9-97fc4c56fcf4"
      },
      "execution_count": null,
      "outputs": [
        {
          "output_type": "stream",
          "name": "stdout",
          "text": [
            "covariance residual sugar vs Quality: 0.016\n",
            "covariance residual sugar vs Quality: 0.014\n"
          ]
        }
      ]
    },
    {
      "cell_type": "markdown",
      "source": [
        ">tidak Ada Hubungan Kuat Kadar gula sisa (residual sugar) hampir tidak berpengaruh terhadap penilaian kualitas wine."
      ],
      "metadata": {
        "id": "ILoZMh7l9VGX"
      }
    },
    {
      "cell_type": "markdown",
      "source": [
        "### **2. Tambahkan perhitungan manual untuk 1 pasang data ((xi, yi)) sebagai ilustrasi**\n"
      ],
      "metadata": {
        "id": "nnDQQ14VxwtR"
      }
    },
    {
      "cell_type": "code",
      "source": [
        "x1 = df['alcohol'].iloc[0]\n",
        "y1 = df['quality'].iloc[0]\n",
        "x_mean = df['alcohol'].mean()\n",
        "y_mean = df['quality'].mean()\n",
        "cov_manual = (x1 - x_mean) * (y1 - y_mean)\n",
        "print(\"\\n covariance antara alcohol dan quality (x1, y1):\", cov_manual)\n"
      ],
      "metadata": {
        "colab": {
          "base_uri": "https://localhost:8080/"
        },
        "id": "CKfKZm3es6G2",
        "outputId": "974eaf5f-9e0e-41fb-ca57-81c4389257c0"
      },
      "execution_count": null,
      "outputs": [
        {
          "output_type": "stream",
          "name": "stdout",
          "text": [
            "\n",
            " covariance antara alcohol dan quality (x1, y1): 0.650640292302764\n"
          ]
        }
      ]
    },
    {
      "cell_type": "markdown",
      "source": [
        "> Nilai positif menunjukkan bahwa ketika kadar alkohol meningkat, kualitas wine cenderung meningkat juga, dan sebaliknya."
      ],
      "metadata": {
        "id": "Fx6WyDSA9sXF"
      }
    },
    {
      "cell_type": "markdown",
      "source": [
        "### **3. Analytical thinking prompts:**"
      ],
      "metadata": {
        "id": "Fv7dtCmuRe2O"
      }
    },
    {
      "cell_type": "markdown",
      "source": [
        "* **Apakah hubungan antar fitur tersebut positif atau negatif? Kuat atau lemah?**\n"
      ],
      "metadata": {
        "id": "gnHHFTMTRmUQ"
      }
    },
    {
      "cell_type": "markdown",
      "source": [
        "> Positif — karena nilai kovariansi lebih dari 0, artinya: Semakin tinggi kadar alkohol, semakin tinggi pula kualitas wine, secara umum.\n",
        "\n",
        ">Tidak bisa disimpulkan langsung dari covariance. Nilai kovariansi tidak terstandarisasi, jadi tidak bisa digunakan untuk menilai kekuatan hubungan.Untuk itu, kita perlu lihat korelasinya"
      ],
      "metadata": {
        "id": "NZk27mUuRw_l"
      }
    },
    {
      "cell_type": "code",
      "source": [
        "print(df[['alcohol', 'quality']].corr())"
      ],
      "metadata": {
        "id": "r0u76jeTubBd",
        "colab": {
          "base_uri": "https://localhost:8080/"
        },
        "outputId": "5f4d087b-0bfc-409e-9957-e0338f5c6329"
      },
      "execution_count": null,
      "outputs": [
        {
          "output_type": "stream",
          "name": "stdout",
          "text": [
            "          alcohol   quality\n",
            "alcohol  1.000000  0.476166\n",
            "quality  0.476166  1.000000\n"
          ]
        }
      ]
    },
    {
      "cell_type": "markdown",
      "source": [
        ">Dengan korelasi 0.476, hubungan antara alcohol dan quality adalah **sedang**. Artinya: ada hubungan positif yang cukup berarti, tetapi **tidak sangat kuat**. Kadar alkohol mempengaruhi kualitas, tapi bukan satu-satunya faktor penting."
      ],
      "metadata": {
        "id": "PG6RDJF0Vioj"
      }
    },
    {
      "cell_type": "markdown",
      "source": [
        "* **Apa implikasinya terhadap kualitas wine?**"
      ],
      "metadata": {
        "id": "1UDDO9EtWVb3"
      }
    },
    {
      "cell_type": "markdown",
      "source": [
        "> Korelasi positif berarti: semakin tinggi kadar alkohol, semakin cenderung tinggi pula kualitas wine. Namun, karena kekuatannya (sedang), ini menunjukkan bahwa alkohol bukan satu-satunya penentu kualitas wine, tapi ada pengaruh dari variabel lain.\n",
        "\n",
        "> Dalam proses produksi atau evaluasi wine, kadar alkohol bisa menjadi salah satu indikator awal untuk memprediksi kualitas.Namun, tidak cukup jika hanya mengandalkan kadar alkohol saja.\n",
        "\n"
      ],
      "metadata": {
        "id": "nLflqfaXWj4n"
      }
    },
    {
      "cell_type": "markdown",
      "source": [
        "* **Tambahkan pertanyaan analisis lainnya dan tuliskan insight-nya!**"
      ],
      "metadata": {
        "id": "Ox0aguPSZTZn"
      }
    },
    {
      "cell_type": "markdown",
      "source": [
        "* **Apakah korelasi antara alkohol dan kualitas signifikan secara statistik?**"
      ],
      "metadata": {
        "id": "6dA1dg1PcI6O"
      }
    },
    {
      "cell_type": "code",
      "source": [
        "from scipy.stats import mannwhitneyu\n",
        "\n",
        "median_alcohol = df['alcohol'].median()\n",
        "\n",
        "low_alcohol = df[df['alcohol'] <= median_alcohol]['quality']\n",
        "high_alcohol = df[df['alcohol'] > median_alcohol]['quality']\n",
        "\n",
        "# Lakukan uji hipotesis (karena distribusi kemungkinan tidak normal → pakai Mann-Whitney U Test)\n",
        "stat, p = mannwhitneyu(low_alcohol, high_alcohol)\n",
        "\n",
        "print(\"p-value:\", p)\n",
        "\n",
        "# Kesimpulan\n",
        "if p < 0.05:\n",
        "    print(\"Ada perbedaan signifikan pada quality antara wine dengan kadar alkohol tinggi dan rendah.\")\n",
        "else:\n",
        "    print(\"Tidak ada perbedaan signifikan pada quality antara wine dengan kadar alkohol tinggi dan rendah.\")\n"
      ],
      "metadata": {
        "colab": {
          "base_uri": "https://localhost:8080/"
        },
        "id": "0e8CZmgdVnBn",
        "outputId": "a9b3317e-de27-4722-ad5c-283b6936d375"
      },
      "execution_count": null,
      "outputs": [
        {
          "output_type": "stream",
          "name": "stdout",
          "text": [
            "p-value: 1.1815090324614156e-65\n",
            "Ada perbedaan signifikan pada quality antara wine dengan kadar alkohol tinggi dan rendah.\n"
          ]
        }
      ]
    },
    {
      "cell_type": "markdown",
      "source": [
        "## **Bagian 3: Z-Score Analysis**"
      ],
      "metadata": {
        "id": "6bzALwM6dPz6"
      }
    },
    {
      "cell_type": "markdown",
      "source": [
        "### **1. Hitung Z-score untuk seluruh data pada kolom quality.**"
      ],
      "metadata": {
        "id": "9pkDi_BsdfA1"
      }
    },
    {
      "cell_type": "code",
      "source": [
        "# Hitung rata-rata dan standar deviasi dari quality\n",
        "mean_quality = df['quality'].mean()\n",
        "std_quality = df['quality'].std()\n",
        "\n",
        "# Hitung Z-score untuk setiap nilai pada kolom quality\n",
        "df['z_score_quality'] = (df['quality'] - mean_quality) / std_quality\n",
        "\n",
        "# Tampilkan 5 data pertama sebagai contoh\n",
        "print(df[['quality', 'z_score_quality']].head(10))\n"
      ],
      "metadata": {
        "colab": {
          "base_uri": "https://localhost:8080/"
        },
        "id": "3It0JKR2dUb4",
        "outputId": "5c85b05d-b60d-40eb-ab4b-0423c2573f4b"
      },
      "execution_count": null,
      "outputs": [
        {
          "output_type": "stream",
          "name": "stdout",
          "text": [
            "   quality  z_score_quality\n",
            "0        5        -0.787576\n",
            "1        5        -0.787576\n",
            "2        5        -0.787576\n",
            "3        6         0.450707\n",
            "4        5        -0.787576\n",
            "5        5        -0.787576\n",
            "6        5        -0.787576\n",
            "7        7         1.688991\n",
            "8        7         1.688991\n",
            "9        5        -0.787576\n"
          ]
        }
      ]
    },
    {
      "cell_type": "markdown",
      "source": [
        "### **2. Identifikasi**"
      ],
      "metadata": {
        "id": "NxQC91KClJt3"
      }
    },
    {
      "cell_type": "markdown",
      "source": [
        "* **Berapa banyak wine yang memiliki Z-score > 1.5 (high quality wines)?**\n",
        "* **Berapa banyak yang Z-score < 1.5 (low quality wines)?**\n",
        "* **Berapa persentasenya terhadap seluruh data?**\n"
      ],
      "metadata": {
        "id": "UKmyMwn-C3TQ"
      }
    },
    {
      "cell_type": "code",
      "source": [
        "# Hitung jumlah wine dengan z-score > 1.5 (high quality)\n",
        "high_quality_count = df[df['z_score_quality'] > 1.5].shape[0]\n",
        "\n",
        "# Hitung jumlah wine dengan z-score < -1.5 (low quality)\n",
        "low_quality_count = df[df['z_score_quality'] < 1.5].shape[0]\n",
        "\n",
        "# Hitung total data\n",
        "total_wine = df.shape[0]\n",
        "\n",
        "# Hitung persentase\n",
        "high_quality_percent = (high_quality_count / total_wine) * 100\n",
        "low_quality_percent = (low_quality_count / total_wine) * 100\n",
        "\n",
        "# Tampilkan hasil\n",
        "print(f\"Jumlah high quality wines (Z > 1.5): {high_quality_count} ({high_quality_percent:.2f}%)\")\n",
        "print(f\"Jumlah low quality wines (Z < 1.5): {low_quality_count} ({low_quality_percent:.2f}%)\")\n",
        "print(f\"Total data: {total_wine}\")\n"
      ],
      "metadata": {
        "colab": {
          "base_uri": "https://localhost:8080/"
        },
        "id": "a97g8kVGBIay",
        "outputId": "65ba71d0-e7b1-40da-8910-2c441b6e9630"
      },
      "execution_count": null,
      "outputs": [
        {
          "output_type": "stream",
          "name": "stdout",
          "text": [
            "Jumlah high quality wines (Z > 1.5): 217 (13.57%)\n",
            "Jumlah low quality wines (Z < 1.5): 1382 (86.43%)\n",
            "Total data: 1599\n"
          ]
        }
      ]
    },
    {
      "cell_type": "markdown",
      "source": [
        "| Kategori               | Jumlah Data | Persentase |\n",
        "| ---------------------- | ----------- | ---------- |\n",
        "| High Quality (Z > 1.5) | 217         | 13.57%     |\n",
        "| Low Quality (Z < -1.5) | 63          | 3.94%      |\n",
        "| Total                  | 1599        | 100%       |\n"
      ],
      "metadata": {
        "id": "lQd-iVy--DdW"
      }
    },
    {
      "cell_type": "markdown",
      "source": [
        "> Hanya 13.6% wine tergolong high quality (Z > 1.5), dan hanya 3.9% tergolong low quality (Z < 1.5).\n",
        "\n",
        ">Artinya, sekitar 82.5% wine berada dalam rentang kualitas rata-rata (Z-score antara 1.5 dan 1.5).\n",
        "\n",
        ">Insight: Kualitas wine dalam dataset ini terpusat di sekitar nilai rata-rata, menunjukkan kontrol mutu yang stabil dan konsisten oleh produsen."
      ],
      "metadata": {
        "id": "-EL-z1t9-E9M"
      }
    },
    {
      "cell_type": "code",
      "source": [
        "# Ukuran plot\n",
        "plt.figure(figsize=(10, 6))\n",
        "\n",
        "# Plot distribusi Z-score\n",
        "sns.histplot(df['z_score_quality'], bins=30, kde=True, color='skyblue')\n",
        "\n",
        "# Garis batas high & low quality\n",
        "plt.axvline(1.5, color='green', linestyle='--', label='High Quality (Z > 1.5)')\n",
        "plt.axvline(-1.5, color='red', linestyle='--', label='Low Quality (Z < 1.5)')\n",
        "\n",
        "# Label dan judul\n",
        "plt.title('Distribusi Z-Score dari Quality Wine')\n",
        "plt.xlabel('Z-Score')\n",
        "plt.ylabel('Jumlah Wine')\n",
        "plt.legend()\n",
        "plt.grid(True)\n",
        "plt.tight_layout()\n",
        "\n",
        "# Tampilkan plot\n",
        "plt.show()\n"
      ],
      "metadata": {
        "colab": {
          "base_uri": "https://localhost:8080/",
          "height": 607
        },
        "id": "Mvu-louxCiwP",
        "outputId": "0173acea-abcc-4462-ca7e-87f108f14ca3"
      },
      "execution_count": null,
      "outputs": [
        {
          "output_type": "display_data",
          "data": {
            "text/plain": [
              "<Figure size 1000x600 with 1 Axes>"
            ],
            "image/png": "[encoded data removed]"
          },
          "metadata": {}
        }
      ]
    },
    {
      "cell_type": "markdown",
      "source": [
        "### **3. Ambil subset data dengan High Quality Wines dan Low Quality Wines**\n",
        "### **4. Bandingkan statistik deskriptif untuk masing-masing subset terhadap fitur-fitur berikut: alcohol, volatile acidity,residual sugar, sulphates,Tambahkan fitur lainnya yang menurutmu menarik**\n"
      ],
      "metadata": {
        "id": "l2vrjbKtj2GK"
      }
    },
    {
      "cell_type": "code",
      "source": [
        "# Ambil subset high dan low quality wines berdasarkan z-score\n",
        "high_quality_wines = df[df['z_score_quality'] > 1.5]\n",
        "low_quality_wines = df[df['z_score_quality'] < 1.5]\n",
        "\n",
        "# Pilih fitur yang ingin dianalisis\n",
        "features = [\n",
        "    'alcohol',\n",
        "    'volatile acidity',\n",
        "    'residual sugar',\n",
        "    'sulphates',\n",
        "    'citric acid', #tambahan fitur\n",
        "    'total sulfur dioxide' #tambahan fitur\n",
        "]\n",
        "\n",
        "# Statistik deskriptif untuk masing-masing subset\n",
        "desc_high = high_quality_wines[features].describe()\n",
        "desc_low = low_quality_wines[features].describe()\n",
        "\n",
        "# Gabungkan untuk perbandingan\n",
        "comparison = pd.concat([desc_high, desc_low], axis=1, keys=['High Quality', 'Low Quality'])\n",
        "\n",
        "# Bulatkan hasil ke 2 angka di belakang koma\n",
        "comparison = comparison.round(2).T\n",
        "\n",
        "# Tampilkan hasil\n",
        "print(comparison)\n"
      ],
      "metadata": {
        "colab": {
          "base_uri": "https://localhost:8080/"
        },
        "id": "rm3X9ACAI7V8",
        "outputId": "2ef0bfbe-1f2d-4545-e92a-b8ccc68699fa"
      },
      "execution_count": null,
      "outputs": [
        {
          "output_type": "stream",
          "name": "stdout",
          "text": [
            "                                    count   mean    std   min    25%    50%  \\\n",
            "High Quality alcohol                217.0  11.52   1.00  9.20  10.80  11.60   \n",
            "             volatile acidity       217.0   0.41   0.14  0.12   0.30   0.37   \n",
            "             residual sugar         217.0   2.71   1.36  1.20   2.00   2.30   \n",
            "             sulphates              217.0   0.74   0.13  0.39   0.65   0.74   \n",
            "             citric acid            217.0   0.38   0.19  0.00   0.30   0.40   \n",
            "             total sulfur dioxide   217.0  34.89  32.57  7.00  17.00  27.00   \n",
            "Low Quality  alcohol               1382.0  10.25   0.97  8.40   9.50  10.00   \n",
            "             volatile acidity      1382.0   0.55   0.18  0.16   0.42   0.54   \n",
            "             residual sugar        1382.0   2.51   1.42  0.90   1.90   2.20   \n",
            "             sulphates             1382.0   0.64   0.17  0.33   0.54   0.60   \n",
            "             citric acid           1382.0   0.25   0.19  0.00   0.08   0.24   \n",
            "             total sulfur dioxide  1382.0  48.29  32.59  6.00  23.00  39.50   \n",
            "\n",
            "                                     75%     max  \n",
            "High Quality alcohol               12.20   14.00  \n",
            "             volatile acidity       0.49    0.92  \n",
            "             residual sugar         2.70    8.90  \n",
            "             sulphates              0.82    1.36  \n",
            "             citric acid            0.49    0.76  \n",
            "             total sulfur dioxide  43.00  289.00  \n",
            "Low Quality  alcohol               10.90   14.90  \n",
            "             volatile acidity       0.65    1.58  \n",
            "             residual sugar         2.60   15.50  \n",
            "             sulphates              0.70    2.00  \n",
            "             citric acid            0.40    1.00  \n",
            "             total sulfur dioxide  65.00  165.00  \n"
          ]
        }
      ]
    },
    {
      "cell_type": "markdown",
      "source": [
        "### **4. Analytical thinking prompts:**"
      ],
      "metadata": {
        "id": "ZCKlJ7iVk9t2"
      }
    },
    {
      "cell_type": "markdown",
      "source": [
        "* **Apakah kadar alkohol cenderung lebih tinggi di wine berkualitas tinggi?**"
      ],
      "metadata": {
        "id": "gVCKcgkIl9Dd"
      }
    },
    {
      "cell_type": "markdown",
      "source": [
        "> Ya. dilihat dari data Rata-rata alkohol: High Quality: sebesar 11.52 dan Low Quality: sebesar 10.22, hal ini menunjukan Kadar alkohol yang lebih tinggi tampaknya menjadi ciri utama dari wine berkualitas tinggi.\n"
      ],
      "metadata": {
        "id": "JW84SoZ3mHT1"
      }
    },
    {
      "cell_type": "markdown",
      "source": [
        "* **Apakah volatile acidity lebih rendah di wine berkualitas bagus?**"
      ],
      "metadata": {
        "id": "7Qb6un2jm12G"
      }
    },
    {
      "cell_type": "markdown",
      "source": [
        "> Ya. Volatile acidity dilihat dari rata-rata: High Quality wine nilai cari valotile acidity sebesar 0.41 sedangkan Low Quality wine nilai dari valotile acidity adalah 0.72. Wine berkualitas rendah cenderung memiliki asam volatil lebih tinggi, yang bisa memberi rasa asam tajam atau seperti cuka yang tidak tidak diinginkan pada wine."
      ],
      "metadata": {
        "id": "BDgk7luOnGMk"
      }
    },
    {
      "cell_type": "markdown",
      "source": [
        "* **Fitur apa yang paling konsisten membedakan kualitas? Apa yang membuat wine berkualitas tinggi atau rendah?**"
      ],
      "metadata": {
        "id": "x9NnuM4HoPnj"
      }
    },
    {
      "cell_type": "markdown",
      "source": [
        "> menurut saya alcohol dan volatile acidity menunjukkan perbedaan paling konsisten dan signifikan. Alcohol tinggi + volatile acidity rendah = kombinasi kunci untuk kualitas tinggi. Beberapa fitur lain seperti residual sugar dan total sulfur dioxide menunjukkan overlap, artinya kurang konsisten sebagai pembeda."
      ],
      "metadata": {
        "id": "JZao19IjpbTP"
      }
    },
    {
      "cell_type": "markdown",
      "source": [
        "* **Tambakan pertanyaan analisis lain dan tuliskan insight-nya!**"
      ],
      "metadata": {
        "id": "m0z0utRcptiv"
      }
    },
    {
      "cell_type": "markdown",
      "source": [
        "\n",
        "---\n",
        "* **Apakah wine berkualitas tinggi memiliki kadar sulfur yang lebih rendah?**\n",
        "\n",
        "> dilihat dari data Rata-rata total sulfur dioxide: High Quality: 34.89 Low Quality: 34.44 hampir tidak ada perbedaan. Jadi, kadar sulfur bukan penentu langsung kualitas dalam dataset ini.\n"
      ],
      "metadata": {
        "id": "abWe5P1Np8NP"
      }
    },
    {
      "cell_type": "markdown",
      "source": [
        "* **Apakah kadar citric acid berhubungan dengan kualitas wine?**\n",
        "\n",
        "> bisa menjadi indikator karena dilihat dari data rata-rata citric acid untuk High Quality dari wine: 0.38 sedangkan yang Low Quality wine : 0.17. Wine berkualitas tinggi cenderung memiliki lebih banyak citric acid, yang memberi rasa segar. Ini bisa menjadi indikator pendukung kualitas."
      ],
      "metadata": {
        "id": "8dwOABR7qXfA"
      }
    },
    {
      "cell_type": "markdown",
      "source": [
        "*  **Apakah residual sugar memengaruhi kualitas wine secara konsisten?**\n",
        "\n",
        "> Mean hampir sama: High Quality wine adalah 2.71 Low Quality wine adalah 2.68 jadi Tidak signifikan dalam membedakan kualitas. Wine manis tidak selalu berarti lebih baik atau buruk — tergantung gaya wine-nya."
      ],
      "metadata": {
        "id": "dOEn5Zu_rLEj"
      }
    },
    {
      "cell_type": "markdown",
      "source": [
        "## **Bagian 4: Expected Value dari Quality**"
      ],
      "metadata": {
        "id": "1rnJ7u-Tr5-O"
      }
    },
    {
      "cell_type": "markdown",
      "source": [
        "### **1. Gunakan tabel probabilitas quality yang sudah disediakan**"
      ],
      "metadata": {
        "id": "S46ennJSsRtR"
      }
    },
    {
      "cell_type": "markdown",
      "source": [
        "### **2. Hitung Expected Value dari quality**"
      ],
      "metadata": {
        "id": "7ajvMDsyz80d"
      }
    },
    {
      "cell_type": "code",
      "source": [
        "# Nilai quality dan probabilitas dari gambar\n",
        "quality_scores = [3, 4, 5, 6, 7, 8, 9]\n",
        "probabilities = [0.02, 0.06, 0.24, 0.30, 0.22, 0.12, 0.04]\n",
        "\n",
        "# Hitung expected value secara manual\n",
        "expected_value = sum(q * p for q, p in zip(quality_scores, probabilities))\n",
        "print(f\"Expected Value (EV) dari Quality Score: {expected_value:.2f}\")\n"
      ],
      "metadata": {
        "colab": {
          "base_uri": "https://localhost:8080/"
        },
        "id": "xk3jhp5jKVHw",
        "outputId": "83ecc906-a5ca-4ea5-b082-b6fddab76107"
      },
      "execution_count": null,
      "outputs": [
        {
          "output_type": "stream",
          "name": "stdout",
          "text": [
            "Expected Value (EV) dari Quality Score: 6.16\n"
          ]
        }
      ]
    },
    {
      "cell_type": "markdown",
      "source": [
        "### **3. Bandingkan hasilnya dengan mean aktual quality di dataset**"
      ],
      "metadata": {
        "id": "0gqwTk_F0MqZ"
      }
    },
    {
      "cell_type": "code",
      "source": [
        "actual_mean = df['quality'].mean()\n",
        "print(f\"Mean aktual dari dataset: {actual_mean:.2f}\")\n"
      ],
      "metadata": {
        "colab": {
          "base_uri": "https://localhost:8080/"
        },
        "id": "HXH5VTHztkDm",
        "outputId": "30e8bed9-8094-4f33-91bd-45d6a28d6dc4"
      },
      "execution_count": null,
      "outputs": [
        {
          "output_type": "stream",
          "name": "stdout",
          "text": [
            "Mean aktual dari dataset: 5.64\n"
          ]
        }
      ]
    },
    {
      "cell_type": "markdown",
      "source": [
        "### **4. Analytical thinking prompts:**"
      ],
      "metadata": {
        "id": "FT_Yzy1b0itL"
      }
    },
    {
      "cell_type": "markdown",
      "source": [
        "* **Apa interpretasi dari expected value tersebut?**\n",
        "* **Apakah hasil expected value mendekati mean aktual?**\n",
        "* **Apa artinya jika keduanya berbeda?**\n",
        "* **Tambahkan pertanyaan analisis lain dan tuliskan insight-nya!**\n"
      ],
      "metadata": {
        "id": "SYKd-BrY1OiC"
      }
    },
    {
      "cell_type": "markdown",
      "source": [
        "> Artinya, jika kita mengambil satu botol wine secara acak dari dataset, maka rata-rata kualitasnya diperkirakan sekitar 6.16."
      ],
      "metadata": {
        "id": "BKhwT2jY3FNI"
      }
    },
    {
      "cell_type": "markdown",
      "source": [
        "> Ya, cukup dekat (EV = 6.10 vs Mean aktual = 5.64) Artinya distribusi empiris (di data) dan distribusi teoritis (di tabel) cukup selaras, tapi: EV sedikit lebih tinggi, mungkin karena tabel probabilitas memberikan bobot lebih besar pada quality score tinggi (7, 8)."
      ],
      "metadata": {
        "id": "eWJGsOXj3II5"
      }
    },
    {
      "cell_type": "markdown",
      "source": [
        "> Jika selisihnya besar maka terdapat perbedaan distribusi aktual vs teori. Perbedaan ini bisa disebabkan oleh sampling bias, persepsi kualitas berbeda, atau distribusi ideal (target market) yang diinginkan produsen."
      ],
      "metadata": {
        "id": "HwCoEoef33HE"
      }
    },
    {
      "cell_type": "markdown",
      "source": [
        "* **bagaimana Implikasi terhadap Kualitas Produk?**"
      ],
      "metadata": {
        "id": "F3fWZATB4xHj"
      }
    },
    {
      "cell_type": "markdown",
      "source": [
        "> Mayoritas produk memiliki kualitas 5–6.Hanya sedikit yang memiliki kualitas tinggi (8–9), dan ini konsisten dengan probabilitasnya yang rendah (misalnya, P(9) = 0.04)."
      ],
      "metadata": {
        "id": "2yzwQgso46dv"
      }
    },
    {
      "cell_type": "markdown",
      "source": [
        "> Ini berarti perusahaan perlu: Memperkuat kualitas premium jika ingin masuk ke pasar wine berkualitas tinggi. Atau fokus pada segmentasi pasar massal jika kualitas 5–6 dianggap cukup untuk konsumen umum."
      ],
      "metadata": {
        "id": "mNU37CaZBF9r"
      }
    },
    {
      "cell_type": "markdown",
      "source": [
        "### **Kesimpulan**"
      ],
      "metadata": {
        "id": "boqy1rW1CJns"
      }
    },
    {
      "cell_type": "markdown",
      "source": [
        "> Kualitas wine rata-rata berada di kisaran 5–6, dengan sedikit yang benar-benar berkualitas tinggi (Z > 1.5).\n",
        "\n",
        "> Alcohol merupakan indikator yang cukup kuat untuk kualitas wine — semakin tinggi alkohol, semakin tinggi kemungkinan kualitas bagus.\n",
        "\n",
        "> Fitur seperti volatile acidity dan citric acid juga membantu membedakan wine berkualitas tinggi vs rendah.\n",
        "\n",
        "> Residual sugar hampir tidak berpengaruh terhadap kualitas.\n",
        "\n",
        "> Distribusi kualitas secara umum sedikit skewed, dengan mean < EV → mungkin menandakan adanya harapan kualitas ideal dari produsen."
      ],
      "metadata": {
        "id": "HFuKyHaVCB6l"
      }
    },
    {
      "cell_type": "markdown",
      "source": [
        "> alcohol dan volatile acidity menunjukkan perbedaan paling konsisten dan signifikan. Alcohol tinggi + volatile acidity rendah = kombinasi kunci untuk kualitas tinggi. Beberapa fitur lain seperti residual sugar dan total sulfur dioxide menunjukkan overlap, artinya kurang konsisten sebagai pembeda."
      ],
      "metadata": {
        "id": "CaENaaNACYNh"
      }
    },
    {
      "cell_type": "code",
      "source": [],
      "metadata": {
        "id": "tobeuspbwDih"
      },
      "execution_count": null,
      "outputs": []
    }
  ]
}